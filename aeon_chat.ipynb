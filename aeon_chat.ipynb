{
 "cells": [
  {
   "cell_type": "code",
   "execution_count": 1,
   "metadata": {},
   "outputs": [],
   "source": [
    "import os\n",
    "import sys\n",
    "\n",
    "import constants\n",
    "from git import Repo\n",
    "from langchain.text_splitter import Language\n",
    "from langchain.document_loaders.generic import GenericLoader\n",
    "from langchain.document_loaders.parsers import LanguageParser\n",
    "from langchain.text_splitter import RecursiveCharacterTextSplitter\n",
    "from langchain.vectorstores import Chroma\n",
    "from langchain.embeddings.openai import OpenAIEmbeddings\n",
    "from langchain.chat_models import ChatOpenAI\n",
    "from langchain.memory import ConversationSummaryMemory\n",
    "from langchain.chains import ConversationalRetrievalChain\n",
    "\n",
    "\n",
    "os.environ['OPENAI_API_KEY'] = constants.APIKEY\n",
    "repo_path = \"../ProjectAeon/aeon_mecha\"\n",
    "\n",
    "loader = GenericLoader.from_filesystem(\n",
    "    repo_path+\"/aeon\",\n",
    "    glob=\"**/*\",\n",
    "    suffixes=[\".py\"],\n",
    "    parser=LanguageParser(language=Language.PYTHON, parser_threshold=500)\n",
    ")\n",
    "documents = loader.load()\n",
    "\n",
    "python_splitter = RecursiveCharacterTextSplitter.from_language(language=Language.PYTHON, \n",
    "                                                               chunk_size=2000, \n",
    "                                                               chunk_overlap=200)\n",
    "texts = python_splitter.split_documents(documents)\n",
    "\n",
    "db = Chroma.from_documents(texts, OpenAIEmbeddings(disallowed_special=()))\n",
    "retriever = db.as_retriever(\n",
    "    search_type=\"mmr\", # Also test \"similarity\"\n",
    "    search_kwargs={\"k\": 8},\n",
    ")\n",
    "\n",
    "llm = ChatOpenAI(model_name=\"gpt-4\") \n",
    "memory = ConversationSummaryMemory(llm=llm,memory_key=\"chat_history\",return_messages=True)\n",
    "qa = ConversationalRetrievalChain.from_llm(llm, retriever=retriever, memory=memory)"
   ]
  },
  {
   "cell_type": "code",
   "execution_count": 4,
   "metadata": {},
   "outputs": [
    {
     "name": "stdout",
     "output_type": "stream",
     "text": [
      "The 'aeon.api.load' function is not defined in the provided context, so I cannot provide details on what it does.\n"
     ]
    }
   ],
   "source": [
    "question = \"What is the 'aeon.api.load' function doing?\"\n",
    "result = qa(question)\n",
    "print(result['answer'])"
   ]
  },
  {
   "cell_type": "code",
   "execution_count": 6,
   "metadata": {},
   "outputs": [
    {
     "name": "stdout",
     "output_type": "stream",
     "text": [
      "The `api.load` function in Aeon's API is used for reading data from specified raw files in an Aeon dataset. It requires the `data_dir`, `reader`, `start` and `end` as parameters. The `data_dir` specifies the directory where the data files are located. The `reader` parameter is an instance of the `Reader` class, which is used to specify the pattern, columns, and extension of the data file. The `start` and `end` parameters specify the range of data to be read from the files. Please note that the actual implementation of the function is not provided in the given context.\n"
     ]
    }
   ],
   "source": [
    "question = \"What does Aeon's api.load function do?\"\n",
    "result = qa(question)\n",
    "print(result['answer'])"
   ]
  },
  {
   "cell_type": "code",
   "execution_count": 3,
   "metadata": {},
   "outputs": [
    {
     "name": "stdout",
     "output_type": "stream",
     "text": [
      "The Experiment table in the database contains information about a particular experiment. Here are the fields it contains:\n",
      "\n",
      "- \"experiment_name\": A string (varchar) of up to 32 characters representing the name of the experiment, for example \"exp0-r0\".\n",
      "\n",
      "- \"experiment_start_time\": A timestamp (datetime) indicating when the experiment started.\n",
      "\n",
      "- \"experiment_description\": A string (varchar) of up to 1000 characters providing a description of the experiment.\n",
      "\n",
      "- \"lab.Arena\": A foreign key (->) that links to the Arena table in the lab schema. It represents the arena where the experiment took place.\n",
      "\n",
      "- \"lab.Location\": A foreign key (->) that links to the Location table in the lab schema. It indicates the lab or room where the experiment took place.\n",
      "\n",
      "- \"ExperimentType\": A foreign key (->) that links to the ExperimentType table. It denotes the type of the experiment conducted.\n",
      "\n",
      "The Experiment table also has two subclasses: Subject and Directory.\n",
      "\n",
      "- The Subject subclass contains a list of subjects participating in the experiment.\n",
      "\n",
      "- The Directory subclass contains the path to the data directory related to the experiment.\n",
      "\n",
      "The Experiment class also has methods to fetch the data directory and directories for the experiment.\n"
     ]
    }
   ],
   "source": [
    "question = \"What do the Experiment tables in the database contain?\"\n",
    "result = qa(question)\n",
    "print(result['answer'])"
   ]
  },
  {
   "cell_type": "code",
   "execution_count": 5,
   "metadata": {},
   "outputs": [
    {
     "name": "stdout",
     "output_type": "stream",
     "text": [
      "To create a new device using streams from patches and cameras, you can follow the code structure provided in the context. This involves two main steps:\n",
      "\n",
      "1. Defining the properties and behavior of the new device: This is done using a combination of Python classes and functions. In the provided code, this is done with the function `generate_device_table(device_type)`. This function generates a device table with specific properties like experiment device, installation time, description, and removal time. It also generates a data stream table for the device.\n",
      "\n",
      "2. Adding the device to an experiment setup: After defining the device and its behavior, the new device needs to be added to an experiment setup. This is done by creating instances of the new device and adding them to a DotMap. In the provided code, this is done in the `exp01`, `exp02` and `octagon01` setups.\n",
      "\n",
      "For instance, if you want to create a new camera device, you could follow the structure used to define the `CameraTop` device in the `exp02` setup:\n",
      "\n",
      "```python\n",
      "Device(\"CameraTop\", stream.video, stream.position, foraging.region)\n",
      "```\n",
      "\n",
      "In this example, `CameraTop` is the name of the device and `stream.video`, `stream.position`, `foraging.region` are the streams used by the device. Similarly, you can create devices for patches following the structure used for `Patch1` and `Patch2`:\n",
      "\n",
      "```python\n",
      "Device(\"Patch1\", foraging.patch)\n",
      "Device(\"Patch2\", foraging.patch)\n",
      "```\n",
      "\n",
      "In these examples, `Patch1` and `Patch2` are the names of the devices and `foraging.patch` is the stream used by the devices.\n"
     ]
    }
   ],
   "source": [
    "question = \"How could I create a new Device made out of streams from patches and cameras?\"\n",
    "result = qa(question)\n",
    "print(result['answer'])"
   ]
  },
  {
   "cell_type": "code",
   "execution_count": 7,
   "metadata": {},
   "outputs": [
    {
     "name": "stdout",
     "output_type": "stream",
     "text": [
      "-> **Question**: What is the 'aeon.api.load' function doing? \n",
      "\n",
      "**Answer**: The 'aeon.api.load' function is not explicitly defined in the provided context. However, based on its usage in the '_load_legacy_subjectdata' function, it appears to be a function used for loading data from a specific location (specified by 'data_dir') using a specific reader (specified by 'reader'), within a certain time frame (specified by 'start' and 'end'). It seems to be part of Aeon's API for handling and loading data. \n",
      "\n",
      "-> **Question**: What do the Experiment tables in the database contain? \n",
      "\n",
      "**Answer**: The Experiment table in the database contains the following information:\n",
      "\n",
      "1. `experiment_name`: A string that represents the name of the experiment. For example, 'exp0-r0'.\n",
      "\n",
      "2. `experiment_start_time`: The date and time when the experiment started.\n",
      "\n",
      "3. `experiment_description`: A text description of the experiment.\n",
      "\n",
      "4. `lab.Arena`: A reference to the Arena table in the lab schema, which contains details about the physical space where the experiment takes place.\n",
      "\n",
      "5. `lab.Location`: A reference to the Location table in the lab schema, which contains details about the lab or room where the experiment takes place.\n",
      "\n",
      "6. `ExperimentType`: A reference to the ExperimentType table, which contains details about the type of experiment conducted.\n",
      "\n",
      "The Experiment table also has two part tables: `Subject` and `Directory`.\n",
      "\n",
      "The `Subject` table contains references to the main Experiment table and the Subject table in the subject schema, indicating the subjects participating in the experiment.\n",
      "\n",
      "The `Directory` table contains references to the main Experiment table and the DirectoryType table. It also contains a reference to the PipelineRepository table and a directory_path field. It's used for navigating the data directories associated with an experiment.\n",
      "\n",
      "The Experiment table also has a couple of class methods: `get_data_directory()` and `get_data_directories()`, which are used to fetch the data directory/directories associated with a given experiment. \n",
      "\n",
      "-> **Question**: How could I create a new Device made out of streams from patches and cameras? \n",
      "\n",
      "**Answer**: The process of creating a new Device using streams from patches and cameras starts by defining the streams that the Device will use. These streams are defined using the aeon.io.reader module, which contains various functions to handle different types of data streams. \n",
      "\n",
      "For example, to define a video stream, you'd use the function `video(pattern)`, where `pattern` is the filename pattern to look for. Other available functions include `position(pattern)`, `encoder(pattern)`, `environment(pattern)`, etc. Each function corresponds to a different type of data stream.\n",
      "\n",
      "Once the streams are defined, they can be assigned to a Device. This is done by creating an instance of the Device class and passing the streams as arguments. \n",
      "\n",
      "For example, the code snippet below creates a new Device called \"CameraTop\" that uses a video stream and a position stream:\n",
      "\n",
      "```python\n",
      "Device(\"CameraTop\", stream.video, stream.position)\n",
      "```\n",
      "\n",
      "In this example, `stream.video` and `stream.position` are streams that were defined using the aeon.io.reader functions.\n",
      "\n",
      "Devices can be added to an experiment setup, which is represented by a DotMap object. For example:\n",
      "\n",
      "```python\n",
      "exp02 = DotMap([\n",
      "    Device(\"CameraTop\", stream.video, stream.position)\n",
      "    # ... other devices ...\n",
      "])\n",
      "```\n",
      "\n",
      "In this example, `exp02` is a DotMap object that represents an experiment setup. It contains a list of Device objects that define the devices used in the experiment.\n",
      "\n",
      "Once the Device and its streams have been defined and added to the experiment setup, you can use the `generate_device_table(device_type)` function to generate the database table for the device. This function creates a table with a schema that matches the data streams used by the device. The table can then be used to store and retrieve data for the device. \n",
      "\n"
     ]
    }
   ],
   "source": [
    "questions = [\n",
    "    \"What is the 'aeon.api.load' function doing?\",\n",
    "    \"What do the Experiment tables in the database contain?\",\n",
    "    \"How could I create a new Device made out of streams from patches and cameras?\",\n",
    "]\n",
    "\n",
    "for question in questions:\n",
    "    result = qa(question)\n",
    "    print(f\"-> **Question**: {question} \\n\")\n",
    "    print(f\"**Answer**: {result['answer']} \\n\")"
   ]
  }
 ],
 "metadata": {
  "kernelspec": {
   "display_name": "aeon_llm",
   "language": "python",
   "name": "python3"
  },
  "language_info": {
   "codemirror_mode": {
    "name": "ipython",
    "version": 3
   },
   "file_extension": ".py",
   "mimetype": "text/x-python",
   "name": "python",
   "nbconvert_exporter": "python",
   "pygments_lexer": "ipython3",
   "version": "3.11.4"
  },
  "orig_nbformat": 4
 },
 "nbformat": 4,
 "nbformat_minor": 2
}
